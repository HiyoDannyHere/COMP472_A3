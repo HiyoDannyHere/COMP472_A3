{
 "cells": [
  {
   "cell_type": "code",
   "execution_count": 5,
   "metadata": {},
   "outputs": [],
   "source": [
    "import pandas as pd"
   ]
  },
  {
   "cell_type": "code",
   "execution_count": 28,
   "metadata": {},
   "outputs": [],
   "source": [
    "training = pd.read_csv(\"data/covid_test_public.tsv\", sep=\"\\t\", usecols=[0, 1, 2])"
   ]
  },
  {
   "cell_type": "code",
   "execution_count": 75,
   "metadata": {},
   "outputs": [],
   "source": [
    "data = {}\n",
    "for index, row in training.iterrows():\n",
    "    data[int(row[\"tweet_id\"])] = (row[\"text\"].split(), 1 if row[\"q1_label\"] == \"yes\" else 0)"
   ]
  },
  {
   "cell_type": "code",
   "execution_count": 77,
   "metadata": {},
   "outputs": [
    {
     "data": {
      "text/plain": [
       "['Panic',\n",
       " 'buying',\n",
       " 'and',\n",
       " 'stockpiling',\n",
       " 'of',\n",
       " 'toilet',\n",
       " 'roll',\n",
       " 'continues.',\n",
       " 'These',\n",
       " 'are',\n",
       " 'the',\n",
       " 'scenes',\n",
       " 'at',\n",
       " 'Costco',\n",
       " 'in',\n",
       " 'Farnborough',\n",
       " 'in',\n",
       " 'Hampshire',\n",
       " 'today.',\n",
       " '#coronavirus',\n",
       " '#toiletpaperpanic',\n",
       " '#panickbuying',\n",
       " 'https://t.co/JLlZVVS7EH']"
      ]
     },
     "execution_count": 77,
     "metadata": {},
     "output_type": "execute_result"
    }
   ],
   "source": [
    "data[1236289649737371648][0]"
   ]
  },
  {
   "cell_type": "code",
   "execution_count": null,
   "metadata": {},
   "outputs": [],
   "source": []
  }
 ],
 "metadata": {
  "kernelspec": {
   "display_name": "Python 3",
   "language": "python",
   "name": "python3"
  },
  "language_info": {
   "codemirror_mode": {
    "name": "ipython",
    "version": 3
   },
   "file_extension": ".py",
   "mimetype": "text/x-python",
   "name": "python",
   "nbconvert_exporter": "python",
   "pygments_lexer": "ipython3",
   "version": "3.7.9"
  }
 },
 "nbformat": 4,
 "nbformat_minor": 4
}
